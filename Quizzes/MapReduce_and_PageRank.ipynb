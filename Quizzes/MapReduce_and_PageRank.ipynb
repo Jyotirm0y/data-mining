{
 "cells": [
  {
   "cell_type": "markdown",
   "metadata": {},
   "source": [
    "# MapReduce and PageRank"
   ]
  },
  {
   "cell_type": "code",
   "execution_count": 1,
   "metadata": {},
   "outputs": [
    {
     "name": "stdout",
     "output_type": "stream",
     "text": [
      "Collecting daft\n",
      "  Downloading daft-0.0.4.tar.gz\n",
      "Requirement already satisfied: numpy in /Users/khanhnamle/anaconda2/lib/python2.7/site-packages (from daft)\n",
      "Requirement already satisfied: matplotlib in /Users/khanhnamle/anaconda2/lib/python2.7/site-packages (from daft)\n",
      "Requirement already satisfied: six>=1.10 in /Users/khanhnamle/anaconda2/lib/python2.7/site-packages (from matplotlib->daft)\n",
      "Requirement already satisfied: python-dateutil>=2.0 in /Users/khanhnamle/anaconda2/lib/python2.7/site-packages (from matplotlib->daft)\n",
      "Requirement already satisfied: backports.functools_lru_cache in /Users/khanhnamle/anaconda2/lib/python2.7/site-packages (from matplotlib->daft)\n",
      "Requirement already satisfied: subprocess32 in /Users/khanhnamle/anaconda2/lib/python2.7/site-packages (from matplotlib->daft)\n",
      "Requirement already satisfied: pytz in /Users/khanhnamle/anaconda2/lib/python2.7/site-packages (from matplotlib->daft)\n",
      "Requirement already satisfied: cycler>=0.10 in /Users/khanhnamle/anaconda2/lib/python2.7/site-packages (from matplotlib->daft)\n",
      "Requirement already satisfied: pyparsing!=2.0.4,!=2.1.2,!=2.1.6,>=2.0.1 in /Users/khanhnamle/anaconda2/lib/python2.7/site-packages (from matplotlib->daft)\n",
      "Building wheels for collected packages: daft\n",
      "  Running setup.py bdist_wheel for daft ... \u001b[?25ldone\n",
      "\u001b[?25h  Stored in directory: /Users/khanhnamle/Library/Caches/pip/wheels/d9/c2/6f/5f6953aeb6d99be7cafda2cfadf907c7d7379a97d8c63a96af\n",
      "Successfully built daft\n",
      "Installing collected packages: daft\n",
      "Successfully installed daft-0.0.4\n"
     ]
    }
   ],
   "source": [
    "!pip install daft\n",
    "import daft\n",
    "import matplotlib.pyplot as plt\n",
    "import numpy as np\n",
    "%matplotlib inline"
   ]
  },
  {
   "cell_type": "markdown",
   "metadata": {},
   "source": [
    "## Question 1\n",
    "Suppose our input data to a map-reduce operation consists of integer values (the keys are not important). The map function takes an integer i and produces the list of pairs (p,i) such that p is a prime divisor of i. For example, map(12) = [(2,12),(3,12)].\n",
    "\n",
    "The reduce function is addition. That is, reduce(p,[i1,i2,...,ik]) is (p,i1 + i2 + ... + ik).\n",
    "\n",
    "Compute the output, if the input is the set of integers 15, 21, 24, 30, 49. Then, identify, in the list below, one of the pairs in the output.\n",
    "\n",
    "* (7,48)\n",
    "* (2,47)\n",
    "* (5,45)\n",
    "* (5,30)"
   ]
  },
  {
   "cell_type": "code",
   "execution_count": 28,
   "metadata": {},
   "outputs": [
    {
     "name": "stdout",
     "output_type": "stream",
     "text": [
      "{2: 54, 3: 139, 5: 45, 7: 70}\n"
     ]
    }
   ],
   "source": [
    "pairs = [(3, 15), (5, 15), (3, 21), (7, 21), (2,24), (3,24), (2,30), (3,30), (5,30), (3, 49), (7, 49)]\n",
    "d = {}\n",
    "for prime, num in pairs:\n",
    "    d[prime] = d.get(prime, 0) + num\n",
    "    \n",
    "print d"
   ]
  },
  {
   "cell_type": "markdown",
   "metadata": {},
   "source": [
    "## Question 2\n",
    "Consider three Web pages with the following links:\n",
    "\n",
    "![pagerank2](pagerank2.gif)\n",
    "\n",
    "Suppose we compute PageRank with a β of 0.7, and we introduce the additional constraint that the sum of the PageRanks of the three pages must be 3, to handle the problem that otherwise any multiple of a solution will also be a solution. Compute the PageRanks a, b, and c of the three pages A, B, and C, respectively. Then, identify from the list below, the true statement.\n",
    "\n",
    "* a + c = 1.985\n",
    "* a + c = 2.745\n",
    "* a + b = 0.55\n",
    "* b + c = 2.7"
   ]
  },
  {
   "cell_type": "code",
   "execution_count": 30,
   "metadata": {},
   "outputs": [
    {
     "data": {
      "text/plain": [
       "<matplotlib.axes._axes.Axes at 0x11161a5d0>"
      ]
     },
     "execution_count": 30,
     "metadata": {},
     "output_type": "execute_result"
    },
    {
     "data": {
      "image/png": "[encoded data removed]",
      "text/plain": [
       "<matplotlib.figure.Figure at 0x11160fdd0>"
      ]
     },
     "metadata": {},
     "output_type": "display_data"
    }
   ],
   "source": [
    "# Instantiate the PGM.\n",
    "pgm = daft.PGM([3, 2], origin=[0, 0], observed_style=\"inner\", )\n",
    "\n",
    "\n",
    "# Hierarchical parameters.\n",
    "pgm.add_node(daft.Node(\"a\", r\"a\", 1., 1.5))\n",
    "pgm.add_node(daft.Node(\"b\", r\"b\", 2.5, 1.5))\n",
    "pgm.add_node(daft.Node(\"c\", r\"c\", 1.5, 0.5, observed=True))\n",
    "\n",
    "# Add in the edges.\n",
    "pgm.add_edge(\"a\", \"b\")\n",
    "pgm.add_edge(\"b\", \"c\")\n",
    "pgm.add_edge(\"a\", \"c\")\n",
    "pgm.add_edge(\"c\", \"c\")\n",
    "\n",
    "# Render and save.\n",
    "pgm.render()"
   ]
  },
  {
   "cell_type": "code",
   "execution_count": 31,
   "metadata": {},
   "outputs": [
    {
     "name": "stdout",
     "output_type": "stream",
     "text": [
      "[[0.1  0.1  0.1 ]\n",
      " [0.45 0.1  0.1 ]\n",
      " [0.45 0.8  0.8 ]]\n",
      "3.0\n"
     ]
    }
   ],
   "source": [
    "beta= 0.7\n",
    "nodes = 3\n",
    "M = np.matrix([[0,0,0], [0.5,0,0], [0.5,1,1]])\n",
    "#print M\n",
    "e = np.matrix(np.repeat(1, nodes))\n",
    "\n",
    "formula = beta*M+(1-beta)*(1./nodes)*np.multiply(e, e.T)\n",
    "print formula\n",
    "print np.sum(formula)"
   ]
  },
  {
   "cell_type": "code",
   "execution_count": 32,
   "metadata": {},
   "outputs": [
    {
     "name": "stdout",
     "output_type": "stream",
     "text": [
      "2.5949999999999993\n",
      "0.705\n",
      "2.6999999999999993\n"
     ]
    }
   ],
   "source": [
    "#constraint that sum of page ranks adds up to 3\n",
    "r = np.matrix([1., 1., 1.]).T\n",
    "#r = np.matrix([1./3, 1./3, 1./3]).T\n",
    "#print r.shape\n",
    "\n",
    "for _ in range(5):\n",
    "    r = np.dot(formula,r)\n",
    "    \n",
    "print r[0,0] + r[2,0] # a + c\n",
    "print r[0,0] + r[1,0] # a + b\n",
    "print r[1,0] + r[2,0] # b + c"
   ]
  },
  {
   "cell_type": "markdown",
   "metadata": {},
   "source": [
    "Answer is a + b equals 0.705\n",
    "\n",
    "The next two problems refer to the following diagram.\n",
    "\n",
    "![pagerank3](pagerank3.gif)\n",
    "\n",
    "## Question 3\n",
    "Suppose we compute PageRank with β=0.85. Write the equations for the PageRanks a, b, and c of the three pages A, B, and C, respectively. Then, identify in the list below, one of the equations.\n",
    "\n",
    "* .85a = c + .15b\n",
    "* c = .9b + .475a\n",
    "* .95b = .475a + .05c\n",
    "* .85c = b + .575a"
   ]
  },
  {
   "cell_type": "code",
   "execution_count": 33,
   "metadata": {},
   "outputs": [
    {
     "data": {
      "text/plain": [
       "<matplotlib.axes._axes.Axes at 0x11167e050>"
      ]
     },
     "execution_count": 33,
     "metadata": {},
     "output_type": "execute_result"
    },
    {
     "data": {
      "image/png": "[encoded data removed]",
      "text/plain": [
       "<matplotlib.figure.Figure at 0x11162ed90>"
      ]
     },
     "metadata": {},
     "output_type": "display_data"
    }
   ],
   "source": [
    "# Instantiate the PGM.\n",
    "pgm = daft.PGM([3, 2], origin=[0, 0], observed_style=\"inner\", )\n",
    "\n",
    "\n",
    "# Hierarchical parameters.\n",
    "pgm.add_node(daft.Node(\"a\", r\"a\", 1., 1.5))\n",
    "pgm.add_node(daft.Node(\"b\", r\"b\", 2.5, 1.5))\n",
    "pgm.add_node(daft.Node(\"c\", r\"c\", 1.5, 0.5))\n",
    "\n",
    "# Add in the edges.\n",
    "pgm.add_edge(\"a\", \"b\")\n",
    "pgm.add_edge(\"b\", \"c\")\n",
    "pgm.add_edge(\"a\", \"c\")\n",
    "pgm.add_edge(\"c\", \"a\")\n",
    "\n",
    "# Render and save.\n",
    "pgm.render()"
   ]
  },
  {
   "cell_type": "code",
   "execution_count": 34,
   "metadata": {},
   "outputs": [
    {
     "name": "stdout",
     "output_type": "stream",
     "text": [
      "[[0.05  0.05  0.9  ]\n",
      " [0.475 0.05  0.05 ]\n",
      " [0.475 0.9   0.05 ]]\n"
     ]
    }
   ],
   "source": [
    "beta= 0.85\n",
    "nodes = 3\n",
    "M = np.matrix([[0,0,1], [0.5,0,0], [0.5,1,0]])\n",
    "#print M\n",
    "e = np.matrix(np.repeat(1, nodes))\n",
    "\n",
    "formula = beta*M+(1-beta)*(1./nodes)*np.multiply(e, e.T)\n",
    "print formula"
   ]
  },
  {
   "cell_type": "code",
   "execution_count": 35,
   "metadata": {},
   "outputs": [
    {
     "name": "stdout",
     "output_type": "stream",
     "text": [
      "0.3356619010416666 0.4199473378906249\n",
      "0.3872726953124999 0.3836236236979166\n",
      "0.20693940299479163 0.2069394029947916\n",
      "0.3291817910156249 0.4448963541666666\n"
     ]
    }
   ],
   "source": [
    "#constraint that sum of page ranks adds up to 3\n",
    "r = np.matrix([1., 1., 1.]).T\n",
    "r = np.matrix([1./3, 1./3, 1./3]).T\n",
    "#print r.shape\n",
    "\n",
    "for _ in range(5):\n",
    "    r = np.dot(formula,r) \n",
    "    \n",
    "a, b, c= r[0,0], r[1,0], r[2,0]\n",
    "\n",
    "print .85*a, c + .15*b \n",
    "print c, .9*b + .475*a \n",
    "print .95*b, .475*a + .05*c \n",
    "print .85*c, b + .575*a"
   ]
  },
  {
   "cell_type": "markdown",
   "metadata": {},
   "source": [
    "## Question 4\n",
    "Assuming no \"taxation,\" compute the PageRanks a, b, and c of the three pages A, B, and C, using iteration, starting with the \"0th\" iteration where all three pages have rank a = b = c = 1. Compute as far as the 5th iteration, and also determine what the PageRanks are in the limit. Then, identify the true statement from the list below. null\n",
    "\n",
    "* In the limit, a = 5/4\n",
    "* In the limit, b = 3/5\n",
    "* In the limit, b = 5/8\n",
    "* In the limit, c = 9/7"
   ]
  },
  {
   "cell_type": "code",
   "execution_count": 36,
   "metadata": {},
   "outputs": [
    {
     "name": "stdout",
     "output_type": "stream",
     "text": [
      "[[0.  0.  1. ]\n",
      " [0.5 0.  0. ]\n",
      " [0.5 1.  0. ]]\n"
     ]
    }
   ],
   "source": [
    "beta= 0.85\n",
    "nodes = 3\n",
    "M = np.matrix([[0,0,1], [0.5,0,0], [0.5,1,0]])\n",
    "e = np.matrix(np.repeat(1, nodes))\n",
    "\n",
    "formula = M #+(1-beta)*(1./nodes)*np.multiply(e, e.T)\n",
    "print formula"
   ]
  },
  {
   "cell_type": "code",
   "execution_count": 37,
   "metadata": {},
   "outputs": [
    {
     "name": "stdout",
     "output_type": "stream",
     "text": [
      "1.2000000000000002\n",
      "0.6000000000000001\n",
      "1.2000000000000002\n"
     ]
    }
   ],
   "source": [
    "#constraint that sum of page ranks adds up to 3\n",
    "r = np.matrix([1., 1., 1.]).T\n",
    "#r = np.matrix([1./3, 1./3, 1./3]).T\n",
    "#print r.shape\n",
    "\n",
    "for _ in range(1000):\n",
    "    r = np.dot(formula,r) \n",
    "    \n",
    "a, b, c= r[0,0], r[1,0], r[2,0]\n",
    "print a\n",
    "print b\n",
    "print c"
   ]
  },
  {
   "cell_type": "markdown",
   "metadata": {},
   "source": [
    "Thus, in the limit, b = 0.6 = 3/5."
   ]
  }
 ],
 "metadata": {
  "kernelspec": {
   "display_name": "Python 2",
   "language": "python",
   "name": "python2"
  },
  "language_info": {
   "codemirror_mode": {
    "name": "ipython",
    "version": 2
   },
   "file_extension": ".py",
   "mimetype": "text/x-python",
   "name": "python",
   "nbconvert_exporter": "python",
   "pygments_lexer": "ipython2",
   "version": "2.7.14"
  }
 },
 "nbformat": 4,
 "nbformat_minor": 2
}

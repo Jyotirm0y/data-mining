{
 "cells": [
  {
   "cell_type": "markdown",
   "metadata": {},
   "source": [
    "# Locality-Sensitive Hashing"
   ]
  },
  {
   "cell_type": "code",
   "execution_count": 1,
   "metadata": {
    "collapsed": true
   },
   "outputs": [],
   "source": [
    "import matplotlib.pyplot as plt\n",
    "import numpy as np\n",
    "import pandas as pd\n",
    "%matplotlib inline"
   ]
  },
  {
   "cell_type": "markdown",
   "metadata": {},
   "source": [
    "## Question 2 (minhashing):\n",
    "Consider the following matrix. Find minhash values for the following ordering of the rows (R4, R6, R1, R3, R5, R2).\n",
    "\n",
    "**Recall**: The minhash value of a column is index of the first 1 entry under a permutation of the rows."
   ]
  },
  {
   "cell_type": "code",
   "execution_count": 2,
   "metadata": {},
   "outputs": [
    {
     "name": "stdout",
     "output_type": "stream",
     "text": [
      "   C1  C2  C3  C4\n",
      "0   0   1   1   0\n",
      "1   1   0   1   1\n",
      "2   0   1   0   1\n",
      "3   0   0   1   0\n",
      "4   1   0   1   0\n",
      "5   0   1   0   0\n"
     ]
    }
   ],
   "source": [
    "data = {'C1': [0, 1, 0, 0, 1, 0],\n",
    "        'C2': [1, 0, 1, 0, 0, 1],\n",
    "        'C3': [1, 1, 0, 1, 1, 0],\n",
    "        'C4': [0, 1, 1, 0, 0, 0]}\n",
    "\n",
    "df = pd.DataFrame(data)\n",
    "print df"
   ]
  },
  {
   "cell_type": "code",
   "execution_count": 3,
   "metadata": {},
   "outputs": [
    {
     "name": "stdout",
     "output_type": "stream",
     "text": [
      "MinHash of column 1 is row 5\n",
      "MinHash of column 2 is row 6\n",
      "MinHash of column 3 is row 4\n",
      "MinHash of column 4 is row 3\n"
     ]
    }
   ],
   "source": [
    "permute = {0:4, 1:6, 2:1, 3:3, 4:5, 5:2}\n",
    "\n",
    "for _ in range(1,5):\n",
    "    s = df[\"C{}\".format(_)]\n",
    "    new = [s[3], s[5], s[0],s[2], s[4], s[1]]\n",
    "    idx = new.index(1)\n",
    "    print \"MinHash of column {0} is row {1}\".format(_, permute[idx])"
   ]
  },
  {
   "cell_type": "markdown",
   "metadata": {},
   "source": [
    "## Question 3 (signatures):"
   ]
  },
  {
   "cell_type": "code",
   "execution_count": 4,
   "metadata": {},
   "outputs": [
    {
     "name": "stdout",
     "output_type": "stream",
     "text": [
      "   C1  C2  C3  C4  C5  C6  C7\n",
      "0   1   2   1   1   2   5   4\n",
      "1   2   3   4   2   3   2   2\n",
      "2   3   1   2   3   1   3   2\n",
      "3   4   1   3   1   2   4   4\n",
      "4   5   2   5   1   1   5   1\n",
      "5   6   1   6   4   1   1   4\n"
     ]
    }
   ],
   "source": [
    "data = {'C1': [1,2,3,4,5,6],\n",
    "        'C2': [2,3,1,1,2,1],\n",
    "        'C3': [1,4,2,3,5,6],\n",
    "        'C4': [1,2,3,1,1,4],\n",
    "        'C5': [2,3,1,2,1,1],\n",
    "        'C6': [5,2,3,4,5,1],\n",
    "        'C7': [4,2,2,4,1,4]}\n",
    "\n",
    "df = pd.DataFrame(data)\n",
    "print df"
   ]
  },
  {
   "cell_type": "markdown",
   "metadata": {},
   "source": [
    "## Question 4 (shingles):\n",
    "Find the set of 2-shingles for the \"document\" ABRACADABRA and also for the \"document\" BRICABRAC.\n",
    "\n",
    "Answer the following questions:\n",
    "\n",
    "How many 2-shingles does ABRACADABRA have? How many 2-shingles does BRICABRAC have? How many 2-shingles do they have in common? What is the Jaccard similarity between the two documents\"?"
   ]
  },
  {
   "cell_type": "code",
   "execution_count": 5,
   "metadata": {},
   "outputs": [
    {
     "name": "stdout",
     "output_type": "stream",
     "text": [
      "set(['AC', 'AB', 'AD', 'CA', 'DA', 'RA', 'BR'])\n",
      "set(['AB', 'CA', 'RA', 'BR', 'IC', 'RI'])\n",
      "set(['CA', 'AB', 'RA', 'BR'])\n",
      "set(['AC', 'AB', 'AD', 'CA', 'DA', 'RA', 'BR', 'IC', 'RI'])\n",
      "Jaccard similiaryt is 0.444444444444\n"
     ]
    }
   ],
   "source": [
    "def getKshingles(string,k):\n",
    "    shingles = set()\n",
    "    for idx in xrange(k,len(string)):\n",
    "        shingles.add(string[idx - k:idx])\n",
    "    return shingles\n",
    "\n",
    "abra = getKshingles(\"ABRACADABRA\", 2)\n",
    "print abra\n",
    "bric = getKshingles(\"BRICABRAC\", 2)\n",
    "print bric\n",
    "\n",
    "inter = abra.intersection(bric)\n",
    "print inter\n",
    "\n",
    "union = abra.union(bric)\n",
    "print union\n",
    "\n",
    "print \"Jaccard similiaryt is {}\".format(len(inter)*1.0/len(union))"
   ]
  },
  {
   "cell_type": "markdown",
   "metadata": {},
   "source": [
    "## Question 6 (5 is omitted):\n",
    "For the following points, find whether they are closer to (0,0) or (100,40) under the L1 and L2 norms:\n",
    "\n",
    "(53,15) (63,8) (53,18) (54,8)"
   ]
  },
  {
   "cell_type": "code",
   "execution_count": 6,
   "metadata": {},
   "outputs": [
    {
     "name": "stdout",
     "output_type": "stream",
     "text": [
      "(53, 15)\n",
      "(53, 15) assigned to (0, 0) under L1 norm\n",
      "(53, 15) assigned to (100, 40) under L2 norm\n",
      "**********\n",
      "(63, 8)\n",
      "(63, 8) assigned to (100, 40) under L1 norm\n",
      "(63, 8) assigned to (100, 40) under L2 norm\n",
      "**********\n",
      "(53, 18)\n",
      "(53, 18) assigned to (100, 40) under L1 norm\n",
      "(53, 18) assigned to (100, 40) under L2 norm\n",
      "**********\n",
      "(54, 8)\n",
      "(54, 8) assigned to (0, 0) under L1 norm\n",
      "(54, 8) assigned to (0, 0) under L2 norm\n",
      "**********\n"
     ]
    }
   ],
   "source": [
    "def distance(pt1, pt2, norm=2):\n",
    "    differences = sum(abs(coord1-coord2)**norm for coord1, coord2 in zip(pt1,pt2))\n",
    "    return np.power(differences, 1./norm)\n",
    "\n",
    "for pt1 in ((53,15), (63,8), (53,18), (54,8)):\n",
    "    print pt1\n",
    "    for norm in range(1,3):\n",
    "        pt2 = ((0,0), (100,40))\n",
    "        one = distance(pt1, pt2[0], norm=norm)\n",
    "        two = distance(pt1, pt2[1], norm=norm)\n",
    "        if one < two:\n",
    "            print pt1, \"assigned to\", pt2[0], \"under L{} norm\".format(norm)\n",
    "        else:\n",
    "            print pt1, \"assigned to\", pt2[1], \"under L{} norm\".format(norm)\n",
    "    print '*' * 10"
   ]
  }
 ],
 "metadata": {
  "kernelspec": {
   "display_name": "Python 2",
   "language": "python",
   "name": "python2"
  },
  "language_info": {
   "codemirror_mode": {
    "name": "ipython",
    "version": 2
   },
   "file_extension": ".py",
   "mimetype": "text/x-python",
   "name": "python",
   "nbconvert_exporter": "python",
   "pygments_lexer": "ipython2",
   "version": "2.7.14"
  }
 },
 "nbformat": 4,
 "nbformat_minor": 2
}
